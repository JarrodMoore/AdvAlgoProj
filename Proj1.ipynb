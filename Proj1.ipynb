version https://git-lfs.github.com/spec/v1
oid sha256:8ae4b50834f3177eabe979bf19d97341ce877c7a2d8de3a8f63535e07e811c1d
size 6809
